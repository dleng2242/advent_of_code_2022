{
 "cells": [
  {
   "cell_type": "markdown",
   "metadata": {},
   "source": [
    "# Advent of Code\n",
    "\n",
    "https://adventofcode.com/2022/"
   ]
  },
  {
   "cell_type": "code",
   "execution_count": null,
   "metadata": {},
   "outputs": [],
   "source": [
    "import copy"
   ]
  },
  {
   "attachments": {},
   "cell_type": "markdown",
   "metadata": {},
   "source": [
    "## Day 5 - Supply stacks"
   ]
  },
  {
   "cell_type": "code",
   "execution_count": null,
   "metadata": {},
   "outputs": [],
   "source": [
    "with open(\"../data/day5.txt\", \"r\") as f:\n",
    "    input_data = f.readlines()\n",
    "# more complex input, don't strip yet\n",
    "input_data = [(val) for val in input_data]\n",
    "input_data[:12]"
   ]
  },
  {
   "cell_type": "code",
   "execution_count": null,
   "metadata": {},
   "outputs": [],
   "source": [
    "# convert inital stacks into dictionary\n",
    "\n",
    "initial_stacks = input_data[:9]\n",
    "\n",
    "# convert text to list of lists\n",
    "initial_stack_list = []\n",
    "for line in initial_stacks:\n",
    "    line_out = []\n",
    "    temp_chars = []\n",
    "    for i, chr in enumerate(line):\n",
    "        temp_chars.append(chr)\n",
    "        # every 4th charcter is new character block\n",
    "        if i % 4 == 3:\n",
    "            # character of interest is 2nd in\n",
    "            line_out.append(temp_chars[1])\n",
    "            # if newline add to main output\n",
    "            if temp_chars[-1] == \"\\n\":\n",
    "                initial_stack_list.append(line_out)\n",
    "                line_out = []\n",
    "            temp_chars = []\n",
    "\n",
    "# get stack index from last element of stack list\n",
    "stack_index = initial_stack_list.pop(-1)\n",
    "\n",
    "# inititialize dictionary\n",
    "inital_stack_dict = {i: [] for i in stack_index}\n",
    "\n",
    "# stick it all together into a dict of lists\n",
    "# work from bottom up, adding elements to list\n",
    "for i, row in enumerate(initial_stack_list[::-1]):\n",
    "    for j, item in enumerate(row):\n",
    "        # don't add empty spaces\n",
    "        if item == \" \":\n",
    "            pass\n",
    "        else:\n",
    "            # stacks in order so index + 1\n",
    "            inital_stack_dict[str(j + 1)].append(item)\n",
    "\n",
    "inital_stack_dict"
   ]
  },
  {
   "cell_type": "code",
   "execution_count": null,
   "metadata": {},
   "outputs": [],
   "source": [
    "# slice input data to get steps\n",
    "steps = input_data[10:]\n",
    "\n",
    "# remove words, leave space between numbers\n",
    "words = [\"move \", \"from \", \"to \", \"\\n\"]\n",
    "for word in words:\n",
    "    steps = [x.replace(word, \"\") for x in steps]\n",
    "# then use space to split again\n",
    "#   this should work no matter how long the number is\n",
    "steps = [x.split(\" \") for x in steps]\n",
    "# ['1', '8', '7'] represents move '1' item from stack '8' to stack '7'\n",
    "steps[:3]"
   ]
  },
  {
   "cell_type": "code",
   "execution_count": null,
   "metadata": {},
   "outputs": [],
   "source": []
  },
  {
   "attachments": {},
   "cell_type": "markdown",
   "metadata": {},
   "source": [
    "## Part 1:"
   ]
  },
  {
   "cell_type": "code",
   "execution_count": null,
   "metadata": {},
   "outputs": [],
   "source": [
    "# use deepcopy to remove references to mutable lists in original dict\n",
    "stack_dict = copy.deepcopy(inital_stack_dict)\n",
    "\n",
    "for i, (move_n, from_stack, to_stack) in enumerate(steps):\n",
    "    # check stack has enough items\n",
    "    if len(stack_dict[from_stack]) < int(move_n):\n",
    "        raise IndexError(\n",
    "            f\"Not enough items to move {move_n} from stack {from_stack} in step {i}.\"\n",
    "            f\"Stack {from_stack} only has {len(stack_dict[from_stack])} items.\"\n",
    "        )\n",
    "    # loop through the number of items to move\n",
    "    for j in range(int(move_n)):\n",
    "        # get last element from stack\n",
    "        item = stack_dict[from_stack].pop()\n",
    "        # add it to stack\n",
    "        stack_dict[to_stack].append(item)\n",
    "\n",
    "# print last elements\n",
    "last_es = []\n",
    "for i in range(9):\n",
    "    last_es.append(stack_dict[str(i + 1)][-1])\n",
    "\n",
    "print(\"\".join(last_es))\n",
    "stack_dict"
   ]
  },
  {
   "cell_type": "code",
   "execution_count": null,
   "metadata": {},
   "outputs": [],
   "source": []
  },
  {
   "cell_type": "markdown",
   "metadata": {},
   "source": [
    "## Part 2:"
   ]
  },
  {
   "cell_type": "code",
   "execution_count": null,
   "metadata": {},
   "outputs": [],
   "source": [
    "# use deepcopy to remove references to mutable lists in original dict\n",
    "stack_dict = copy.deepcopy(inital_stack_dict)\n",
    "\n",
    "for i, (move_n, from_stack, to_stack) in enumerate(steps):\n",
    "\n",
    "    # print(\"/n\")\n",
    "    # print(stack_dict)\n",
    "    # print(f\"Move {move_n} from {from_stack} to {to_stack}\")\n",
    "\n",
    "    # convert to int\n",
    "    move_n = int(move_n)\n",
    "\n",
    "    # check stack has enough items\n",
    "    if len(stack_dict[from_stack]) < int(move_n):\n",
    "        raise IndexError(\n",
    "            f\"Not enough items to move {move_n} from stack {from_stack} in step {i}.\"\n",
    "            f\"Stack {from_stack} only has {len(stack_dict[from_stack])} items.\"\n",
    "        )\n",
    "\n",
    "    # get last n items from stack\n",
    "    items = stack_dict[from_stack][-move_n:]\n",
    "    # remove them from stack\n",
    "    stack_dict[from_stack] = stack_dict[from_stack][:-move_n]\n",
    "    # add them to new stack\n",
    "    stack_dict[to_stack] = stack_dict[to_stack] + items\n",
    "\n",
    "\n",
    "# print last elements\n",
    "last_es = []\n",
    "for i in range(9):\n",
    "    last_es.append(stack_dict[str(i + 1)][-1])\n",
    "\n",
    "print(\"\".join(last_es))\n",
    "stack_dict"
   ]
  },
  {
   "cell_type": "code",
   "execution_count": null,
   "metadata": {},
   "outputs": [],
   "source": []
  }
 ],
 "metadata": {
  "kernelspec": {
   "display_name": "advent_env",
   "language": "python",
   "name": "python3"
  },
  "language_info": {
   "codemirror_mode": {
    "name": "ipython",
    "version": 3
   },
   "file_extension": ".py",
   "mimetype": "text/x-python",
   "name": "python",
   "nbconvert_exporter": "python",
   "pygments_lexer": "ipython3",
   "version": "3.10.8"
  },
  "orig_nbformat": 4,
  "vscode": {
   "interpreter": {
    "hash": "13dcc6a8f481d1d304147d9e161aecdc2d3ebf18753ccdc568d6a45591d2e884"
   }
  }
 },
 "nbformat": 4,
 "nbformat_minor": 2
}
