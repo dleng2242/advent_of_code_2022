{
 "cells": [
  {
   "cell_type": "markdown",
   "metadata": {},
   "source": [
    "# Advent of Code\n",
    "\n",
    "https://adventofcode.com/2022/"
   ]
  },
  {
   "cell_type": "markdown",
   "metadata": {},
   "source": [
    "## Day 3 - Rucksack Reorganization"
   ]
  },
  {
   "cell_type": "code",
   "execution_count": null,
   "metadata": {},
   "outputs": [],
   "source": [
    "with open(\"../data/day3.txt\", \"r\") as f:\n",
    "    input_data = f.readlines()\n",
    "input_data = [(val.strip()) for val in input_data]\n",
    "input_data[:5]"
   ]
  },
  {
   "attachments": {},
   "cell_type": "markdown",
   "metadata": {},
   "source": [
    "## Part 1:"
   ]
  },
  {
   "cell_type": "code",
   "execution_count": null,
   "metadata": {},
   "outputs": [],
   "source": [
    "import string"
   ]
  },
  {
   "cell_type": "code",
   "execution_count": null,
   "metadata": {},
   "outputs": [],
   "source": [
    "# define priority lookup\n",
    "d_priority = {k: i + 1 for i, k in enumerate(string.ascii_letters)}\n",
    "\n",
    "\n",
    "total_priority_score = 0\n",
    "for bag in input_data:\n",
    "    # get the two bags\n",
    "    cmp_len = len(bag) // 2\n",
    "    a, b = bag[:cmp_len], bag[cmp_len:]\n",
    "\n",
    "    # find shared character\n",
    "    char_shared = set(a).intersection(set(b))\n",
    "\n",
    "    # get priority value\n",
    "    # TODO: what if there are more then one..?\n",
    "    char_priority = d_priority[char_shared.pop()]\n",
    "\n",
    "    total_priority_score += char_priority\n",
    "\n",
    "\n",
    "total_priority_score"
   ]
  },
  {
   "attachments": {},
   "cell_type": "markdown",
   "metadata": {},
   "source": [
    "## Part 2:"
   ]
  },
  {
   "cell_type": "code",
   "execution_count": null,
   "metadata": {},
   "outputs": [],
   "source": [
    "# define priority lookup\n",
    "d_priority = {k: i + 1 for i, k in enumerate(string.ascii_letters)}\n",
    "\n",
    "total_priority_score = 0\n",
    "group = 0\n",
    "bags = []\n",
    "for bag in input_data:\n",
    "\n",
    "    # add bag to group\n",
    "    bags.append(bag)\n",
    "\n",
    "    # when full set of 3, proceed\n",
    "    if len(bags) == 3:\n",
    "\n",
    "        # get sets of elf items\n",
    "        a, b, c = [set(bag) for bag in bags]\n",
    "\n",
    "        # find common item\n",
    "        shared_item = set(a).intersection(set(b)).intersection(set(c))\n",
    "\n",
    "        # get priority value\n",
    "        # TODO: what if there are more then one..?\n",
    "        char_priority = d_priority[shared_item.pop()]\n",
    "\n",
    "        total_priority_score += char_priority\n",
    "\n",
    "        # reset group of bags at end\n",
    "        bags = []\n",
    "\n",
    "\n",
    "total_priority_score"
   ]
  },
  {
   "cell_type": "code",
   "execution_count": null,
   "metadata": {},
   "outputs": [],
   "source": []
  }
 ],
 "metadata": {
  "kernelspec": {
   "display_name": "advent_env",
   "language": "python",
   "name": "python3"
  },
  "language_info": {
   "codemirror_mode": {
    "name": "ipython",
    "version": 3
   },
   "file_extension": ".py",
   "mimetype": "text/x-python",
   "name": "python",
   "nbconvert_exporter": "python",
   "pygments_lexer": "ipython3",
   "version": "3.10.8"
  },
  "orig_nbformat": 4,
  "vscode": {
   "interpreter": {
    "hash": "b7fc8c00430d8363efece0ef04d5c85abe814083dfdb4942ffe39549d7ba449f"
   }
  }
 },
 "nbformat": 4,
 "nbformat_minor": 2
}
