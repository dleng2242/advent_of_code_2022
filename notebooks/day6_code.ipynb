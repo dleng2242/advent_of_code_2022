{
 "cells": [
  {
   "cell_type": "markdown",
   "metadata": {},
   "source": [
    "# Advent of Code\n",
    "\n",
    "https://adventofcode.com/2022/"
   ]
  },
  {
   "cell_type": "code",
   "execution_count": null,
   "metadata": {},
   "outputs": [],
   "source": [
    "## Day 6 - Tuning Trouble\n",
    "with open(\"../data/day6.txt\", \"r\") as f:\n",
    "    input_data = f.readlines()\n",
    "# extract sequence as string\n",
    "input_data = input_data[0].strip()\n",
    "input_data"
   ]
  },
  {
   "cell_type": "code",
   "execution_count": null,
   "metadata": {},
   "outputs": [],
   "source": []
  },
  {
   "attachments": {},
   "cell_type": "markdown",
   "metadata": {},
   "source": [
    "## Part 1:"
   ]
  },
  {
   "cell_type": "code",
   "execution_count": null,
   "metadata": {},
   "outputs": [],
   "source": [
    "# could use collections deque to implement a linked list\n",
    "# but the buffer is really small and efficiency doesn't matter\n",
    "# too much here\n",
    "\n",
    "buffer = input_data[:4]\n",
    "for i, c in enumerate(input_data[4:]):\n",
    "    # update buffer\n",
    "    buffer += c\n",
    "    buffer = buffer[1:]\n",
    "    # check start of packet criteria of all unique buffer elements\n",
    "    if len(set(buffer)) == 4:\n",
    "        # index from zero, lagged by 4, position from 1, so +5\n",
    "        print(f\"Start found at position: {i+5}\")\n",
    "        print(buffer)\n",
    "        break"
   ]
  },
  {
   "cell_type": "code",
   "execution_count": null,
   "metadata": {},
   "outputs": [],
   "source": []
  },
  {
   "cell_type": "markdown",
   "metadata": {},
   "source": [
    "## Part 2:"
   ]
  },
  {
   "cell_type": "code",
   "execution_count": null,
   "metadata": {},
   "outputs": [],
   "source": [
    "buffer = input_data[:14]\n",
    "buffer_packet = \"\"\n",
    "for i, c in enumerate(input_data[14:]):\n",
    "    # update buffer\n",
    "    buffer += c\n",
    "    buffer = buffer[1:]\n",
    "    # check start of packet criteria of all unique buffer elements\n",
    "    if len(set(buffer)) == 14:\n",
    "        # index from zero, lagged by 14, position from 1, so +15\n",
    "        print(f\"Start found at position: {i+15}\")\n",
    "        print(buffer)\n",
    "        buffer_packet += c\n",
    "        buffer_packet = buffer[-14:]\n",
    "        break"
   ]
  },
  {
   "cell_type": "code",
   "execution_count": null,
   "metadata": {},
   "outputs": [],
   "source": []
  }
 ],
 "metadata": {
  "kernelspec": {
   "display_name": "Python 3",
   "language": "python",
   "name": "python3"
  },
  "language_info": {
   "codemirror_mode": {
    "name": "ipython",
    "version": 3
   },
   "file_extension": ".py",
   "mimetype": "text/x-python",
   "name": "python",
   "nbconvert_exporter": "python",
   "pygments_lexer": "ipython3",
   "version": "3.9.6"
  },
  "orig_nbformat": 4,
  "vscode": {
   "interpreter": {
    "hash": "31f2aee4e71d21fbe5cf8b01ff0e069b9275f58929596ceb00d14d90e3e16cd6"
   }
  }
 },
 "nbformat": 4,
 "nbformat_minor": 2
}
