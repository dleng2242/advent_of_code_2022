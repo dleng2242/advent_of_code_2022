{
 "cells": [
  {
   "cell_type": "markdown",
   "metadata": {},
   "source": [
    "# Advent of Code\n",
    "\n",
    "https://adventofcode.com/2022/"
   ]
  },
  {
   "cell_type": "markdown",
   "metadata": {},
   "source": [
    "## Day 4 - Camp Cleanup"
   ]
  },
  {
   "cell_type": "code",
   "execution_count": null,
   "metadata": {},
   "outputs": [],
   "source": [
    "with open(\"../data/day4.txt\", \"r\") as f:\n",
    "    input_data = f.readlines()\n",
    "input_data = [(val.strip()) for val in input_data]\n",
    "input_data[:5]"
   ]
  },
  {
   "attachments": {},
   "cell_type": "markdown",
   "metadata": {},
   "source": [
    "## Part 1:"
   ]
  },
  {
   "cell_type": "code",
   "execution_count": null,
   "metadata": {},
   "outputs": [],
   "source": [
    "# how many assignment pairs does one range fully contain the other?\n",
    "\n",
    "full_contain_list = []\n",
    "for val in input_data:\n",
    "    # unpack values from string\n",
    "    a, b = val.split(\",\")\n",
    "    a_low, a_high = a.split(\"-\")\n",
    "    b_low, b_high = b.split(\"-\")\n",
    "\n",
    "    # convert to ints\n",
    "    a_low, a_high, b_low, b_high = (int(x) for x in (a_low, a_high, b_low, b_high))\n",
    "\n",
    "    # check a within b\n",
    "    if (a_low >= b_low) & (a_high <= b_high):\n",
    "        full_contain_list.append(val)\n",
    "    # then check b within a\n",
    "    elif (b_low >= a_low) & (b_high <= a_high):\n",
    "        full_contain_list.append(val)\n",
    "    else:\n",
    "        pass\n",
    "\n",
    "print(len(full_contain_list))\n",
    "# print(full_contain_list)"
   ]
  },
  {
   "cell_type": "markdown",
   "metadata": {},
   "source": [
    "## Part 2:"
   ]
  },
  {
   "cell_type": "code",
   "execution_count": null,
   "metadata": {},
   "outputs": [],
   "source": [
    "# how many assignment pairs overlap at all?\n",
    "\n",
    "full_contain_list = []\n",
    "for val in input_data:\n",
    "    # unpack values from string\n",
    "    a, b = val.split(\",\")\n",
    "    a_low, a_high = a.split(\"-\")\n",
    "    b_low, b_high = b.split(\"-\")\n",
    "\n",
    "    # convert to ints\n",
    "    a_low, a_high, b_low, b_high = (int(x) for x in (a_low, a_high, b_low, b_high))\n",
    "\n",
    "    # check not overlap\n",
    "    if (a_low > b_high) | (b_low > a_high):\n",
    "        pass\n",
    "    # otherwise, there is overlap\n",
    "    else:\n",
    "        full_contain_list.append(val)\n",
    "\n",
    "print(len(full_contain_list))\n",
    "# print(full_contain_list)"
   ]
  },
  {
   "cell_type": "code",
   "execution_count": null,
   "metadata": {},
   "outputs": [],
   "source": []
  }
 ],
 "metadata": {
  "kernelspec": {
   "display_name": "advent_env",
   "language": "python",
   "name": "python3"
  },
  "language_info": {
   "codemirror_mode": {
    "name": "ipython",
    "version": 3
   },
   "file_extension": ".py",
   "mimetype": "text/x-python",
   "name": "python",
   "nbconvert_exporter": "python",
   "pygments_lexer": "ipython3",
   "version": "3.10.8"
  },
  "orig_nbformat": 4,
  "vscode": {
   "interpreter": {
    "hash": "b7fc8c00430d8363efece0ef04d5c85abe814083dfdb4942ffe39549d7ba449f"
   }
  }
 },
 "nbformat": 4,
 "nbformat_minor": 2
}
