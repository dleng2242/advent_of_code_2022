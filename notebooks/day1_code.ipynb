{
 "cells": [
  {
   "cell_type": "markdown",
   "metadata": {},
   "source": [
    "# Advent of Code\n",
    "\n",
    "https://adventofcode.com/2022/"
   ]
  },
  {
   "cell_type": "markdown",
   "metadata": {},
   "source": [
    "## Day 1 - Elf Calories"
   ]
  },
  {
   "cell_type": "code",
   "execution_count": null,
   "metadata": {},
   "outputs": [],
   "source": [
    "with open(\"../data/day1.txt\", \"r\") as f:\n",
    "    input_data = f.readlines()\n",
    "input_data[:12]"
   ]
  },
  {
   "cell_type": "code",
   "execution_count": null,
   "metadata": {},
   "outputs": [],
   "source": [
    "max_cals = [0, 0, 0]\n",
    "max_elfs = [0, 0, 0]\n",
    "elf = 0\n",
    "elf_total = 0\n",
    "for line in input_data:\n",
    "    value = line.strip()\n",
    "    if not value:\n",
    "        # empty line indicates next elf\n",
    "        # change elf index and reset total\n",
    "        elf += 1\n",
    "        elf_total = 0\n",
    "        continue\n",
    "    elf_total += int(value)\n",
    "    # there is certainly a better way, but this works\n",
    "    if elf_total > max_cals[0]:\n",
    "        max_cals.insert(0, elf_total)\n",
    "        max_elfs.insert(0, elf)\n",
    "    elif elf_total > max_cals[1]:\n",
    "        max_cals.insert(1, elf_total)\n",
    "        max_elfs.insert(1, elf)\n",
    "    elif elf_total > max_cals[2]:\n",
    "        max_cals.insert(2, elf_total)\n",
    "        max_elfs.insert(2, elf)\n",
    "    max_cals = max_cals[:3]\n",
    "    max_elfs = max_elfs[:3]\n",
    "\n",
    "print(max_elfs, max_cals, sum(max_cals))"
   ]
  },
  {
   "cell_type": "code",
   "execution_count": null,
   "metadata": {},
   "outputs": [],
   "source": []
  }
 ],
 "metadata": {
  "kernelspec": {
   "display_name": "advent_env",
   "language": "python",
   "name": "python3"
  },
  "language_info": {
   "codemirror_mode": {
    "name": "ipython",
    "version": 3
   },
   "file_extension": ".py",
   "mimetype": "text/x-python",
   "name": "python",
   "nbconvert_exporter": "python",
   "pygments_lexer": "ipython3",
   "version": "3.10.8 | packaged by conda-forge | (main, Nov 24 2022, 14:07:00) [MSC v.1916 64 bit (AMD64)]"
  },
  "orig_nbformat": 4,
  "vscode": {
   "interpreter": {
    "hash": "b7fc8c00430d8363efece0ef04d5c85abe814083dfdb4942ffe39549d7ba449f"
   }
  }
 },
 "nbformat": 4,
 "nbformat_minor": 2
}
