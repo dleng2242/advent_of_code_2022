{
 "cells": [
  {
   "cell_type": "markdown",
   "metadata": {},
   "source": [
    "# Advent of Code\n",
    "\n",
    "https://adventofcode.com/2022/"
   ]
  },
  {
   "cell_type": "markdown",
   "metadata": {},
   "source": [
    "## Day 2 - Rock Paper Scissors"
   ]
  },
  {
   "cell_type": "code",
   "execution_count": null,
   "metadata": {},
   "outputs": [],
   "source": [
    "with open(\"../data/day2.txt\", \"r\") as f:\n",
    "    input_data = f.readlines()\n",
    "input_data = [(val.strip().split(\" \")) for val in input_data]\n",
    "input_data[:5]"
   ]
  },
  {
   "attachments": {},
   "cell_type": "markdown",
   "metadata": {},
   "source": [
    "## Part 1:"
   ]
  },
  {
   "cell_type": "code",
   "execution_count": null,
   "metadata": {},
   "outputs": [],
   "source": [
    "# specify lookups\n",
    "d1 = {\n",
    "    \"A\": \"Rock\",\n",
    "    \"B\": \"Paper\",\n",
    "    \"C\": \"Scissors\",\n",
    "}\n",
    "\n",
    "d2 = {\n",
    "    \"X\": \"Rock\",\n",
    "    \"Y\": \"Paper\",\n",
    "    \"Z\": \"Scissors\",\n",
    "}\n",
    "\n",
    "d_shape = {\n",
    "    \"Rock\": 1,\n",
    "    \"Paper\": 2,\n",
    "    \"Scissors\": 3,\n",
    "}\n",
    "\n",
    "d_outcome = {\n",
    "    # key beats value\n",
    "    \"Rock\": \"Scissors\",\n",
    "    \"Paper\": \"Rock\",\n",
    "    \"Scissors\": \"Paper\",\n",
    "}\n",
    "\n",
    "\n",
    "def score_round(them, your):\n",
    "\n",
    "    # get shapes\n",
    "    them_shape = d1.get(them)\n",
    "    your_shape = d2.get(your)\n",
    "\n",
    "    # get shape scores\n",
    "    them_score = d_shape.get(them_shape)\n",
    "    your_score = d_shape.get(your_shape)\n",
    "\n",
    "    # get outcome score\n",
    "    # use scores to compute result\n",
    "    if them_shape == your_shape:\n",
    "        score = 3 + your_score\n",
    "    elif d_outcome[your_shape] == them_shape:\n",
    "        score = 6 + your_score\n",
    "    elif d_outcome[your_shape] != them_shape:\n",
    "        score = 0 + your_score\n",
    "\n",
    "    # print(f\"{them}:{them_shape} vs {your}:{your_shape} so {score}\")\n",
    "\n",
    "    return score\n",
    "\n",
    "\n",
    "total_score = 0\n",
    "for them, your in input_data:\n",
    "    total_score += score_round(them, your)\n",
    "total_score"
   ]
  },
  {
   "attachments": {},
   "cell_type": "markdown",
   "metadata": {},
   "source": [
    "## Part 2:"
   ]
  },
  {
   "cell_type": "code",
   "execution_count": null,
   "metadata": {},
   "outputs": [],
   "source": [
    "d1 = {\n",
    "    \"A\": \"Rock\",\n",
    "    \"B\": \"Paper\",\n",
    "    \"C\": \"Scissors\",\n",
    "}\n",
    "\n",
    "d2 = {\n",
    "    \"X\": \"Loose\",\n",
    "    \"Y\": \"Draw\",\n",
    "    \"Z\": \"Win\",\n",
    "}\n",
    "\n",
    "d_shape = {\n",
    "    \"Rock\": 1,\n",
    "    \"Paper\": 2,\n",
    "    \"Scissors\": 3,\n",
    "}\n",
    "\n",
    "game_outcome = {\n",
    "    # key beats value\n",
    "    \"Rock\": \"Scissors\",\n",
    "    \"Paper\": \"Rock\",\n",
    "    \"Scissors\": \"Paper\",\n",
    "}\n",
    "\n",
    "# inverse game outcome to get what is beaten by what\n",
    "#   so key is beaten by value\n",
    "game_outcome_i = {v: k for k, v in game_outcome.items()}\n",
    "\n",
    "\n",
    "def score_round(them, your):\n",
    "\n",
    "    # get result\n",
    "    result = d2.get(your)\n",
    "\n",
    "    # get their shape\n",
    "    them_shape = d1.get(them)\n",
    "\n",
    "    # determine your shape from theirs and result\n",
    "    if result == \"Draw\":\n",
    "        your_shape = them_shape\n",
    "        score = 3 + d_shape.get(your_shape)\n",
    "    elif result == \"Win\":\n",
    "        # use inverse outcome dict to get what shape beat theirs\n",
    "        your_shape = game_outcome_i.get(them_shape)\n",
    "        score = 6 + d_shape.get(your_shape)\n",
    "    elif result == \"Loose\":\n",
    "        # use outcome dict to get what would loose to their shape\n",
    "        your_shape = game_outcome.get(them_shape)\n",
    "        score = 0 + d_shape.get(your_shape)\n",
    "\n",
    "    # print(f\"{result} with {them}:{them_shape} vs {your}:{your_shape} so {score}\")\n",
    "\n",
    "    return score\n",
    "\n",
    "\n",
    "total_score = 0\n",
    "for them, your in input_data:\n",
    "    total_score += score_round(them, your)\n",
    "total_score"
   ]
  },
  {
   "cell_type": "code",
   "execution_count": null,
   "metadata": {},
   "outputs": [],
   "source": []
  }
 ],
 "metadata": {
  "kernelspec": {
   "display_name": "advent_env",
   "language": "python",
   "name": "python3"
  },
  "language_info": {
   "codemirror_mode": {
    "name": "ipython",
    "version": 3
   },
   "file_extension": ".py",
   "mimetype": "text/x-python",
   "name": "python",
   "nbconvert_exporter": "python",
   "pygments_lexer": "ipython3",
   "version": "3.10.8 | packaged by conda-forge | (main, Nov 24 2022, 14:07:00) [MSC v.1916 64 bit (AMD64)]"
  },
  "orig_nbformat": 4,
  "vscode": {
   "interpreter": {
    "hash": "b7fc8c00430d8363efece0ef04d5c85abe814083dfdb4942ffe39549d7ba449f"
   }
  }
 },
 "nbformat": 4,
 "nbformat_minor": 2
}
